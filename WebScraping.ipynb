{
 "cells": [
  {
   "cell_type": "code",
   "execution_count": 1,
   "id": "39a5df17",
   "metadata": {},
   "outputs": [],
   "source": [
    "import bs4\n",
    "from requests import get"
   ]
  },
  {
   "cell_type": "code",
   "execution_count": 2,
   "id": "41ef0ded",
   "metadata": {},
   "outputs": [],
   "source": [
    "url=\"https://indianexpress.com/section/india/\""
   ]
  },
  {
   "cell_type": "code",
   "execution_count": 3,
   "id": "aea87ae0",
   "metadata": {},
   "outputs": [
    {
     "data": {
      "text/plain": [
       "'https://indianexpress.com/section/india/'"
      ]
     },
     "execution_count": 3,
     "metadata": {},
     "output_type": "execute_result"
    }
   ],
   "source": [
    "url"
   ]
  },
  {
   "cell_type": "code",
   "execution_count": 4,
   "id": "e1261185",
   "metadata": {},
   "outputs": [],
   "source": [
    "links=[]\n",
    "data=get(url)\n",
    "soup=bs4.BeautifulSoup(data.content)\n",
    "for i in soup.find_all(\"h2\",class_=['title']):\n",
    "    links.append(i.a['href'])"
   ]
  },
  {
   "cell_type": "code",
   "execution_count": 5,
   "id": "7ffffeea",
   "metadata": {},
   "outputs": [
    {
     "data": {
      "text/plain": [
       "['https://indianexpress.com/article/india/political-pulse/tripura-ipft-factional-feud-deepens-nc-debbarma-says-disciplinary-committee-formed-to-decide-mevar-kumar-jamatias-fate-7928339/',\n",
       " 'https://indianexpress.com/article/india/heroin-rs-1500-crore-seized-lakshadweep-coast-7928325/',\n",
       " 'https://indianexpress.com/article/india/political-pulse/northeast-flood-bjp-mla-gets-feet-washed-7928292/',\n",
       " 'https://indianexpress.com/article/india/political-pulse/gujarat-pulse-party-for-patels-hardik-naresh-go-7928250/',\n",
       " 'https://indianexpress.com/article/india/political-pulse/indira-gandhi-first-woman-prime-minister-7928253/',\n",
       " 'https://indianexpress.com/article/india/jharkhand-hc-hemant-soren-corruption-affidavit-state-7928290/',\n",
       " 'https://indianexpress.com/article/india/your-daily-wrap-may-20-gyanvapi-pangong-tso-7928235/',\n",
       " 'https://indianexpress.com/article/india/mountain-collapse-jk-tunnel-jammu-srinagar-highway-ramban-7928255/',\n",
       " 'https://indianexpress.com/article/india/political-pulse/azam-khan-walks-out-of-jail-into-most-watched-list-7928125/',\n",
       " 'https://indianexpress.com/article/india/india-pitch-permanent-solution-food-stockholding-wto-meet-7928180/',\n",
       " 'https://indianexpress.com/article/india/defence-sources-china-pangong-tso-2nd-bridge-permanent-mea-7928121/',\n",
       " 'https://indianexpress.com/article/india/jet-airways-resumes-commercial-flight-operations-dgca-7928140/',\n",
       " 'https://indianexpress.com/article/india/political-pulse/haryana-cong-kuldeep-bishnoi-bjp-khattar-calls-him-friend-7927915/',\n",
       " 'https://indianexpress.com/article/india/political-pulse/uddhav-thackeray-mva-govt-anil-deshmukh-sushant-rajput-bjp-courts-7928077/',\n",
       " 'https://indianexpress.com/article/india/gyanvapi-mosque-supreme-court-district-judge-varanasi-7928026/',\n",
       " 'https://indianexpress.com/article/india/political-pulse/raj-thackeray-mns-ayodhya-visit-cancelled-bjp-7927801/',\n",
       " 'https://indianexpress.com/article/india/political-pulse/fodder-scam-case-pending-lalu-prasad-rjd-comment-7927903/',\n",
       " 'https://indianexpress.com/article/india/india-news-india/poll-panel-to-curtail-some-perks-privileges-extended-to-election-commissioners-7927820/',\n",
       " 'https://indianexpress.com/article/india/political-pulse/warn-nation-against-bids-to-spark-new-rows-language-caste-pm-bjp-7927758/',\n",
       " 'https://indianexpress.com/article/india/poll-strategist-prashant-kishor-chintan-shivir-comment-7927660/',\n",
       " 'https://indianexpress.com/article/india/political-pulse/basavaraj-bommai-summoned-to-delhi-7927579/',\n",
       " 'https://indianexpress.com/article/india/indias-security-territorial-integrity-non-negotiable-pm-must-defend-nation-rahul-gandhi-7927553/',\n",
       " 'https://indianexpress.com/article/india/sc-adjourns-hearing-hemant-soren-mining-lease-allotment-case-jharkhand-7927348/',\n",
       " 'https://indianexpress.com/article/india/political-pulse/hardik-patel-asha-patel-alpesh-thakor-congress-gujarat-7927463/',\n",
       " 'https://indianexpress.com/article/india/time-for-bjp-to-fix-goals-for-next-25-years-and-work-continuously-for-them-pm-modi-7927398/']"
      ]
     },
     "execution_count": 5,
     "metadata": {},
     "output_type": "execute_result"
    }
   ],
   "source": [
    "links"
   ]
  },
  {
   "cell_type": "code",
   "execution_count": 6,
   "id": "8c494b5e",
   "metadata": {},
   "outputs": [],
   "source": [
    "headlines=[]\n",
    "article=[]\n",
    "for i in links:\n",
    "    data=get(i)\n",
    "    soup=bs4.BeautifulSoup(data.content,'html.parser')\n",
    "    for j in soup.find_all('h1',class_=['native_story_title']):\n",
    "        headlines.append(j.text)\n",
    "    for k in soup.find_all('div',class_=['editor']):\n",
    "        article.append((k.text))"
   ]
  },
  {
   "cell_type": "code",
   "execution_count": 7,
   "id": "66065f00",
   "metadata": {},
   "outputs": [
    {
     "data": {
      "text/plain": [
       "['Tripura: IPFT factional feud deepens, NC Debbarma says disciplinary committee formed to decide Mevar Kumar Jamatia’s fate',\n",
       " 'Heroin worth Rs 1,500 crore seized off Lakshadweep coast: Officials',\n",
       " 'HashtagPolitics | Another BJP MLA in a spot over Northeast flood visit: Gets feet washed, says all about love',\n",
       " 'Gujarat Pulse | A party for the Patels: Which way will Hardik, Naresh go?',\n",
       " 'Indira Gandhi: Second-longest serving and first woman Prime Minister',\n",
       " 'Jharkhand HC poser to govt: Can person accused of corruption file affidavit on behalf of State?',\n",
       " 'Your Daily Wrap: SC transfers Gyanvapi case to Varanasi district judge, MEA on Chinese bridge on Pangong Tso; and more',\n",
       " 'Watch: Portion of mountain caves in day after J&K tunnel collapse',\n",
       " 'Newsmaker | Azam Khan walks out of jail, into everyone’s most-watched list',\n",
       " 'India to pitch for permanent solution to food stockholding at WTO meet next month',\n",
       " 'China is building second bridge on Pangong Tso: MEA confirms',\n",
       " 'Jet Airways granted air operator certificate, can resume commercial flight operations: DGCA',\n",
       " 'Haryana Cong MLA Kuldeep Bishnoi appears to warm up to BJP, Khattar calls him ‘friend’',\n",
       " 'On trial MVA govt as BJP, Centre take on each other in courts',\n",
       " 'Supreme Court orders transfer of Gyanvapi mosque committee’s plea to Varanasi district judge',\n",
       " 'No Ayodhya visit, Raj Thackeray finds no easy way out of ‘vanvas’',\n",
       " 'Fodder scam: One more case pending against Lalu Prasad, RJD says it won’t be cowed down',\n",
       " 'Poll panel to curtail some perks, privileges extended to Election Commissioners',\n",
       " 'Need to warn nation against bids to spark new rows over language, caste: PM to BJP brass',\n",
       " 'Chintan Shivir a failure, says Prashant Kishor, predicts electoral rout for Congress in Gujarat, HP',\n",
       " 'Karnataka CM Basavaraj Bommai summoned to Delhi, ‘drastic measures’ in the offing?',\n",
       " 'India’s security, territorial integrity non-negotiable, PM must defend nation: Rahul Gandhi',\n",
       " 'SC adjourns hearing in Jharkhand CM Hemant Soren mining lease allotment case till May 24',\n",
       " 'An aide & a former rival: Why Hardik mentioned Asha Patel, Alpesh Thakor during charge against Congress',\n",
       " '‘Time for BJP to fix goals for next 25 years and work continuously for them’: PM Modi']"
      ]
     },
     "execution_count": 7,
     "metadata": {},
     "output_type": "execute_result"
    }
   ],
   "source": [
    "headlines"
   ]
  },
  {
   "cell_type": "code",
   "execution_count": 8,
   "id": "97a804c5",
   "metadata": {},
   "outputs": [],
   "source": [
    "import pandas as pd\n",
    "Q=pd.DataFrame([headlines,article]).T"
   ]
  },
  {
   "cell_type": "code",
   "execution_count": 9,
   "id": "06eb445b",
   "metadata": {},
   "outputs": [],
   "source": [
    "Q.columns=([\"Headlines\",\"Article\"])"
   ]
  },
  {
   "cell_type": "code",
   "execution_count": 10,
   "id": "3e671855",
   "metadata": {},
   "outputs": [
    {
     "data": {
      "text/html": [
       "<div>\n",
       "<style scoped>\n",
       "    .dataframe tbody tr th:only-of-type {\n",
       "        vertical-align: middle;\n",
       "    }\n",
       "\n",
       "    .dataframe tbody tr th {\n",
       "        vertical-align: top;\n",
       "    }\n",
       "\n",
       "    .dataframe thead th {\n",
       "        text-align: right;\n",
       "    }\n",
       "</style>\n",
       "<table border=\"1\" class=\"dataframe\">\n",
       "  <thead>\n",
       "    <tr style=\"text-align: right;\">\n",
       "      <th></th>\n",
       "      <th>Headlines</th>\n",
       "      <th>Article</th>\n",
       "    </tr>\n",
       "  </thead>\n",
       "  <tbody>\n",
       "    <tr>\n",
       "      <th>0</th>\n",
       "      <td>Tripura: IPFT factional feud deepens, NC Debba...</td>\n",
       "      <td>Written by \\t\\t\\t\\t\\tDebraj Deb\\n\\t\\t\\t\\t | A...</td>\n",
       "    </tr>\n",
       "    <tr>\n",
       "      <th>1</th>\n",
       "      <td>Heroin worth Rs 1,500 crore seized off Lakshad...</td>\n",
       "      <td>Written by \\t\\t\\t\\t\\tShaju Philip\\n\\t\\t\\t\\t |...</td>\n",
       "    </tr>\n",
       "    <tr>\n",
       "      <th>2</th>\n",
       "      <td>HashtagPolitics | Another BJP MLA in a spot ov...</td>\n",
       "      <td>By: Express News Service | Agartala, Guwahati ...</td>\n",
       "    </tr>\n",
       "    <tr>\n",
       "      <th>3</th>\n",
       "      <td>Gujarat Pulse | A party for the Patels: Which ...</td>\n",
       "      <td>Written by \\t\\t\\t\\t\\tLeena Misra\\n\\t\\t\\t\\t | ...</td>\n",
       "    </tr>\n",
       "    <tr>\n",
       "      <th>4</th>\n",
       "      <td>Indira Gandhi: Second-longest serving and firs...</td>\n",
       "      <td>Written by \\t\\t\\t\\t\\tHarikishan Sharma\\n\\t\\t\\...</td>\n",
       "    </tr>\n",
       "    <tr>\n",
       "      <th>5</th>\n",
       "      <td>Jharkhand HC poser to govt: Can person accused...</td>\n",
       "      <td>Written by \\t\\t\\t\\t\\tAbhishek Angad\\n\\t\\t\\t\\t...</td>\n",
       "    </tr>\n",
       "    <tr>\n",
       "      <th>6</th>\n",
       "      <td>Your Daily Wrap: SC transfers Gyanvapi case to...</td>\n",
       "      <td>By: Express Web Desk | New Delhi | \\t\\t\\n\\nUpd...</td>\n",
       "    </tr>\n",
       "    <tr>\n",
       "      <th>7</th>\n",
       "      <td>Watch: Portion of mountain caves in day after ...</td>\n",
       "      <td>By: Express Web Desk | New Delhi | \\t\\t\\n\\nUpd...</td>\n",
       "    </tr>\n",
       "    <tr>\n",
       "      <th>8</th>\n",
       "      <td>Newsmaker | Azam Khan walks out of jail, into ...</td>\n",
       "      <td>Written by \\t\\t\\t\\t\\tAsad Rehman\\n\\t\\t\\t\\t | ...</td>\n",
       "    </tr>\n",
       "  </tbody>\n",
       "</table>\n",
       "</div>"
      ],
      "text/plain": [
       "                                           Headlines  \\\n",
       "0  Tripura: IPFT factional feud deepens, NC Debba...   \n",
       "1  Heroin worth Rs 1,500 crore seized off Lakshad...   \n",
       "2  HashtagPolitics | Another BJP MLA in a spot ov...   \n",
       "3  Gujarat Pulse | A party for the Patels: Which ...   \n",
       "4  Indira Gandhi: Second-longest serving and firs...   \n",
       "5  Jharkhand HC poser to govt: Can person accused...   \n",
       "6  Your Daily Wrap: SC transfers Gyanvapi case to...   \n",
       "7  Watch: Portion of mountain caves in day after ...   \n",
       "8  Newsmaker | Azam Khan walks out of jail, into ...   \n",
       "\n",
       "                                             Article  \n",
       "0   Written by \\t\\t\\t\\t\\tDebraj Deb\\n\\t\\t\\t\\t | A...  \n",
       "1   Written by \\t\\t\\t\\t\\tShaju Philip\\n\\t\\t\\t\\t |...  \n",
       "2  By: Express News Service | Agartala, Guwahati ...  \n",
       "3   Written by \\t\\t\\t\\t\\tLeena Misra\\n\\t\\t\\t\\t | ...  \n",
       "4   Written by \\t\\t\\t\\t\\tHarikishan Sharma\\n\\t\\t\\...  \n",
       "5   Written by \\t\\t\\t\\t\\tAbhishek Angad\\n\\t\\t\\t\\t...  \n",
       "6  By: Express Web Desk | New Delhi | \\t\\t\\n\\nUpd...  \n",
       "7  By: Express Web Desk | New Delhi | \\t\\t\\n\\nUpd...  \n",
       "8   Written by \\t\\t\\t\\t\\tAsad Rehman\\n\\t\\t\\t\\t | ...  "
      ]
     },
     "execution_count": 10,
     "metadata": {},
     "output_type": "execute_result"
    }
   ],
   "source": [
    "Q.head(9)"
   ]
  },
  {
   "cell_type": "code",
   "execution_count": null,
   "id": "3a019063",
   "metadata": {},
   "outputs": [],
   "source": []
  },
  {
   "cell_type": "code",
   "execution_count": null,
   "id": "37830c4d",
   "metadata": {},
   "outputs": [],
   "source": []
  },
  {
   "cell_type": "code",
   "execution_count": null,
   "id": "7780abbc",
   "metadata": {},
   "outputs": [],
   "source": []
  }
 ],
 "metadata": {
  "kernelspec": {
   "display_name": "Python 3 (ipykernel)",
   "language": "python",
   "name": "python3"
  },
  "language_info": {
   "codemirror_mode": {
    "name": "ipython",
    "version": 3
   },
   "file_extension": ".py",
   "mimetype": "text/x-python",
   "name": "python",
   "nbconvert_exporter": "python",
   "pygments_lexer": "ipython3",
   "version": "3.8.13"
  }
 },
 "nbformat": 4,
 "nbformat_minor": 5
}
